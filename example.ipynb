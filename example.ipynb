{
 "cells": [
  {
   "cell_type": "code",
   "execution_count": null,
   "metadata": {},
   "outputs": [],
   "source": [
    "import os\n",
    "import os.path as osp\n",
    "\n",
    "import cv2\n",
    "\n",
    "from inference import InferenceONNX"
   ]
  },
  {
   "cell_type": "code",
   "execution_count": null,
   "metadata": {},
   "outputs": [],
   "source": [
    "IMAGE_PATH = \"dataset/images/0abc7b20-20240207161344_00062.jpg\"\n",
    "ONNX_DETECTOR_PATH = \"onnx/detectionModel.onnx\"\n",
    "ONNX_RECOGNIZER_PATH = \"onnx/recognitionModel_v2.onnx\"\n",
    "PROVIDERS = ['CUDAExecutionProvider', 'CPUExecutionProvider']\n",
    "SAVE_DIR = \"./results\"\n",
    "SHOW = False"
   ]
  },
  {
   "cell_type": "markdown",
   "metadata": {},
   "source": [
    "## Inference single image"
   ]
  },
  {
   "cell_type": "code",
   "execution_count": null,
   "metadata": {},
   "outputs": [],
   "source": [
    "inference = InferenceONNX(\n",
    "    onnx_detector_path=ONNX_DETECTOR_PATH,\n",
    "    onnx_recognizer_path=ONNX_RECOGNIZER_PATH,\n",
    "    providers=PROVIDERS\n",
    ")\n",
    "\n",
    "img = cv2.imread(IMAGE_PATH)\n",
    "# img = cv2.cvtColor(img, cv2.COLOR_BGR2RGB)\n",
    "name = \".\".join(IMAGE_PATH.split('/')[-1].split(\".\")[:-1])\n",
    "os.makedirs(SAVE_DIR, exist_ok=True)\n",
    "inference.read_text(\n",
    "    image=img,\n",
    "    save_path=osp.join(SAVE_DIR, name),\n",
    "    show=SHOW\n",
    ")"
   ]
  }
 ],
 "metadata": {
  "language_info": {
   "name": "python"
  }
 },
 "nbformat": 4,
 "nbformat_minor": 2
}
